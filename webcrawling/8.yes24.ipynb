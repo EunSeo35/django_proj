{
 "cells": [
  {
   "cell_type": "code",
   "execution_count": 1,
   "metadata": {},
   "outputs": [],
   "source": [
    "import requests\n",
    "from bs4 import BeautifulSoup\n",
    "url = 'https://www.yes24.com/Product/Category/BestSeller?categoryNumber=001'\n",
    "response = requests.get(url)\n",
    "soup = BeautifulSoup(response.text, 'html.parser')"
   ]
  },
  {
   "cell_type": "code",
   "execution_count": 35,
   "metadata": {},
   "outputs": [
    {
     "name": "stdout",
     "output_type": "stream",
     "text": [
      "1 제목: 소년이 온다 저자: 한강 가격: 13,500원\n",
      "2 제목: 채식주의자 저자: 한강 가격: 13,500원\n",
      "3 제목: 작별하지 않는다 저자: 한강 가격: 15,120원\n",
      "4 제목: 트럼프 2.0 시대 저자: 박종훈 가격: 18,000원\n",
      "5 제목: 서랍에 저녁을 넣어 두었다 저자: 한강 가격: 10,800원\n",
      "6 제목: 하루 한 장 나의 어휘력을 위한 필사 노트 저자: 유선경 가격: 21,420원\n",
      "7 제목: 흰 저자: 한강 가격: 13,050원\n",
      "8 제목: 트렌드 코리아 2025 저자: 최진혁 가격: 18,000원\n",
      "9 제목: 넥서스 저자: 김난도 가격: 25,020원\n",
      "10 제목: 희랍어 시간 저자: 전미영 가격: 11,700원\n",
      "11 제목: 인생의 의미 저자: 최지혜 가격: 16,920원\n",
      "12 제목: 부모의 어휘력 저자: 권정윤 가격: 17,100원\n",
      "13 제목: 어른의 행복은 조용하다 저자: 한다혜 가격: 16,020원\n",
      "14 제목: 천 번을 흔들리며 아이는 어른이 됩니다 저자: 유발 하라리 가격: 16,020원\n",
      "15 제목: 초등 영어 식스 저자: 김명주 가격: 20,700원\n",
      "16 제목: 성적을 부탁해 티처스 저자: 한강 가격: 19,800원\n",
      "17 제목: ETS 토익 정기시험 기출문제집 1000 Vol. 4 RC 저자: 토마스 힐란드 에릭센 가격: 17,820원\n",
      "18 제목: 모순 저자: 이영래 가격: 11,700원\n",
      "19 제목: 나의 인생만사 답사기 저자: 김종원 가격: 19,800원\n",
      "20 제목: 지박소년 하나코 군 22 트리플 특장판 저자: 태수 가격: 5,400원\n",
      "21 제목: 가난한 찰리의 연감 저자: 김붕년 가격: 29,700원\n",
      "22 제목: 퓨처 셀프 30만 부 기념 스페셜 에디션 저자: 권태형 가격: 19,800원\n",
      "23 제목: 너에게 들려주는 단단한 말 저자: 정승제 가격: 16,200원\n",
      "24 제목: ETS 토익 정기시험 기출문제집 1000 Vol. 4 LC 저자: 조정식 가격: 17,820원\n"
     ]
    }
   ],
   "source": [
    "title_list = soup.select('div.info_row.info_name > a.gd_name')\n",
    "author_list = soup.select('span.authPub.info_auth > a')\n",
    "price_list = soup.select('div.info_row.info_price > strong > em')\n",
    "\n",
    "for i, (title, author, price) in enumerate(zip(title_list, author_list, price_list), start=1):\n",
    "    print(f\"{i} 제목: {title.text} 저자: {author.text} 가격: {price.text}원\")\n"
   ]
  },
  {
   "cell_type": "code",
   "execution_count": null,
   "metadata": {},
   "outputs": [],
   "source": []
  }
 ],
 "metadata": {
  "kernelspec": {
   "display_name": "Python 3.9.13 ('webcrawling': venv)",
   "language": "python",
   "name": "python3"
  },
  "language_info": {
   "codemirror_mode": {
    "name": "ipython",
    "version": 3
   },
   "file_extension": ".py",
   "mimetype": "text/x-python",
   "name": "python",
   "nbconvert_exporter": "python",
   "pygments_lexer": "ipython3",
   "version": "3.9.13"
  },
  "orig_nbformat": 4,
  "vscode": {
   "interpreter": {
    "hash": "50c521824f0de2af12b005a32f8051191dc81fd1d24212694aab0144f2aed8f4"
   }
  }
 },
 "nbformat": 4,
 "nbformat_minor": 2
}
