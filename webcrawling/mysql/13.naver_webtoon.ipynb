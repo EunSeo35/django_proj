{
 "cells": [
  {
   "cell_type": "code",
   "execution_count": 31,
   "metadata": {},
   "outputs": [],
   "source": [
    "import csv\n",
    "from selenium import webdriver\n",
    "from selenium.webdriver.chrome.options import Options\n",
    "from bs4 import BeautifulSoup"
   ]
  },
  {
   "cell_type": "code",
   "execution_count": 40,
   "metadata": {},
   "outputs": [],
   "source": [
    "chrome_options = Options()\n",
    "chrome_options.add_experimental_option(\"detach\", True)\n",
    "driver = webdriver.Chrome(options=chrome_options)\n",
    "url = \"https://comic.naver.com/webtoon?tab=mon\"\n",
    "driver.get(url)"
   ]
  },
  {
   "cell_type": "code",
   "execution_count": 41,
   "metadata": {},
   "outputs": [],
   "source": [
    "html = driver.page_source\n",
    "soup = BeautifulSoup(html, \"html.parser\")"
   ]
  },
  {
   "cell_type": "code",
   "execution_count": 42,
   "metadata": {},
   "outputs": [],
   "source": [
    "# 웹툰 제목, 작가, 평점 추출\n",
    "title_list = [title.text for title in soup.select(\"#content > div > ul > li > div > a > span > span\")]\n",
    "author_list = [author.text for author in soup.select('#content > div > ul > li > div > div.ContentAuthor__author_wrap--fV7Lo > a')]\n",
    "rating_list = [rating.text for rating in soup.select('#content > div > ul > li > div > div.rating_area > span > span')]\n"
   ]
  },
  {
   "cell_type": "code",
   "execution_count": 43,
   "metadata": {},
   "outputs": [],
   "source": [
    "data = []\n",
    "for title, author, rating in zip(title_list, author_list, rating_list):\n",
    "    data.append({'title': title, 'author': author, 'rating': rating})\n"
   ]
  },
  {
   "cell_type": "code",
   "execution_count": 44,
   "metadata": {},
   "outputs": [],
   "source": [
    "csv_file = 'webtoons.csv'\n",
    "csv_columns = ['title', 'author', 'rating']"
   ]
  },
  {
   "cell_type": "code",
   "execution_count": 47,
   "metadata": {},
   "outputs": [
    {
     "name": "stdout",
     "output_type": "stream",
     "text": [
      "webtoons.csv 성공\n"
     ]
    }
   ],
   "source": [
    "with open(csv_file, mode='w', encoding='utf-8-sig', newline='') as file:\n",
    "    writer = csv.DictWriter(file, fieldnames=csv_columns)\n",
    "    writer.writeheader()  \n",
    "    writer.writerows(data)  \n",
    "    print(f\"{csv_file} 성공\")\n"
   ]
  },
  {
   "cell_type": "code",
   "execution_count": 48,
   "metadata": {},
   "outputs": [],
   "source": [
    "driver.quit()"
   ]
  },
  {
   "cell_type": "code",
   "execution_count": null,
   "metadata": {},
   "outputs": [],
   "source": []
  }
 ],
 "metadata": {
  "kernelspec": {
   "display_name": "Python 3.9.13 ('webcrawling': venv)",
   "language": "python",
   "name": "python3"
  },
  "language_info": {
   "codemirror_mode": {
    "name": "ipython",
    "version": 3
   },
   "file_extension": ".py",
   "mimetype": "text/x-python",
   "name": "python",
   "nbconvert_exporter": "python",
   "pygments_lexer": "ipython3",
   "version": "3.9.13"
  },
  "orig_nbformat": 4,
  "vscode": {
   "interpreter": {
    "hash": "50c521824f0de2af12b005a32f8051191dc81fd1d24212694aab0144f2aed8f4"
   }
  }
 },
 "nbformat": 4,
 "nbformat_minor": 2
}
