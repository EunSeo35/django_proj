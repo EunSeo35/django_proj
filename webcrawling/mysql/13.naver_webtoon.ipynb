{
 "cells": [
  {
   "cell_type": "code",
   "execution_count": null,
   "metadata": {},
   "outputs": [],
   "source": [
    "import requests\n",
    "from bs4 import BeautifulSoup\n",
    "webtoon = requests.get(\"https://comic.naver.com/webtoon\")\n",
    "webtoon = BeautifulSoup(webtoon.content,'html.parser')"
   ]
  },
  {
   "cell_type": "code",
   "execution_count": 25,
   "metadata": {},
   "outputs": [
    {
     "data": {
      "text/plain": [
       "\n",
       "<!DOCTYPE html>\n",
       "\n",
       "<html lang=\"ko\">\n",
       "<head>\n",
       "<title>네이버 웹툰</title>\n",
       "<link href=\"https://shared-comic.pstatic.net/favicon/favicon_96x96.ico\" rel=\"icon\" type=\"image/x-icon\"/>\n",
       "<link href=\"https://m.comic.naver.com/webtoon/weekday\" rel=\"canonical\">\n",
       "<meta content=\"6Wv2YrpTSpapViVikuUS-ebAqZDiKxcrDV_clkRzH9A\" name=\"google-site-verification\"/>\n",
       "<meta charset=\"utf-8\"/>\n",
       "<meta content=\"ie=edge\" http-equiv=\"x-ua-compatible\"/>\n",
       "<meta content=\"article\" property=\"og:type\"/>\n",
       "<meta content=\"네이버 웹툰\" property=\"og:article:author\"/>\n",
       "<meta content=\"https://comic.naver.com\" property=\"og:article:author:url\"/>\n",
       "<meta content=\"네이버 웹툰\" property=\"og:title\"/>\n",
       "<meta content=\"https://ssl.pstatic.net/static/comic/images/og_tag_v3.png\" property=\"og:image\"/>\n",
       "<meta content=\"매일매일 새로운 재미, 네이버 웹툰.\" property=\"og:description\"/>\n",
       "<script>\n",
       "\t\tif (/MSIE \\d|Trident.*rv:/.test(navigator.userAgent)) {\n",
       "\t\t\twindow.location = 'microsoft-edge:' + window.location;\n",
       "\t\t\tsetTimeout(function () {\n",
       "\t\t\t\twindow.location = 'https://go.microsoft.com/fwlink/?linkid=2135547';\n",
       "\t\t\t}, 1);\n",
       "\t\t}\n",
       "\t</script>\n",
       "<script async=\"\" src=\"https://ssl.pstatic.net/tveta/libs/glad/prod/gfp-core.js\"></script>\n",
       "<script>\n",
       "\t\tvar ccsrv = 'cc.naver.com';\n",
       "\t\twindow.gladsdk = window.gladsdk || { cmd: [] };\n",
       "\t</script>\n",
       "</link></head>\n",
       "<body>\n",
       "<div id=\"root\"></div>\n",
       "</body>\n",
       "<script src=\"/runtime-d80ce4d0344973f1254e.js\" type=\"text/javascript\"></script>\n",
       "<script src=\"/vendor-react-d37d9c657a271200d9cf.js\" type=\"text/javascript\"></script>\n",
       "<script src=\"/vendor-react-common-867e221e893ddffc865a.js\" type=\"text/javascript\"></script>\n",
       "<script src=\"/vendor-common-4c04532899aecf03d14c.js\" type=\"text/javascript\"></script>\n",
       "<script src=\"/vendor-log-feb99cf7b041c7e3b64d.js\" type=\"text/javascript\"></script>\n",
       "<script src=\"/router-b4aa7bff56fd79446adc.js\" type=\"text/javascript\"></script>\n",
       "</html>"
      ]
     },
     "execution_count": 25,
     "metadata": {},
     "output_type": "execute_result"
    }
   ],
   "source": [
    "webtoon"
   ]
  },
  {
   "cell_type": "code",
   "execution_count": 29,
   "metadata": {},
   "outputs": [
    {
     "data": {
      "text/plain": [
       "[<meta content=\"6Wv2YrpTSpapViVikuUS-ebAqZDiKxcrDV_clkRzH9A\" name=\"google-site-verification\"/>,\n",
       " <meta charset=\"utf-8\"/>,\n",
       " <meta content=\"ie=edge\" http-equiv=\"x-ua-compatible\"/>,\n",
       " <meta content=\"article\" property=\"og:type\"/>,\n",
       " <meta content=\"네이버 웹툰\" property=\"og:article:author\"/>,\n",
       " <meta content=\"https://comic.naver.com\" property=\"og:article:author:url\"/>,\n",
       " <meta content=\"네이버 웹툰\" property=\"og:title\"/>,\n",
       " <meta content=\"https://ssl.pstatic.net/static/comic/images/og_tag_v3.png\" property=\"og:image\"/>,\n",
       " <meta content=\"매일매일 새로운 재미, 네이버 웹툰.\" property=\"og:description\"/>]"
      ]
     },
     "execution_count": 29,
     "metadata": {},
     "output_type": "execute_result"
    }
   ],
   "source": [
    "webtoon.select(\"meta\")"
   ]
  },
  {
   "cell_type": "code",
   "execution_count": 19,
   "metadata": {},
   "outputs": [
    {
     "name": "stdout",
     "output_type": "stream",
     "text": [
      "[]\n"
     ]
    }
   ],
   "source": []
  },
  {
   "cell_type": "code",
   "execution_count": null,
   "metadata": {},
   "outputs": [],
   "source": []
  }
 ],
 "metadata": {
  "kernelspec": {
   "display_name": "Python 3.9.13 ('webcrawling': venv)",
   "language": "python",
   "name": "python3"
  },
  "language_info": {
   "codemirror_mode": {
    "name": "ipython",
    "version": 3
   },
   "file_extension": ".py",
   "mimetype": "text/x-python",
   "name": "python",
   "nbconvert_exporter": "python",
   "pygments_lexer": "ipython3",
   "version": "3.9.13"
  },
  "orig_nbformat": 4,
  "vscode": {
   "interpreter": {
    "hash": "50c521824f0de2af12b005a32f8051191dc81fd1d24212694aab0144f2aed8f4"
   }
  }
 },
 "nbformat": 4,
 "nbformat_minor": 2
}
