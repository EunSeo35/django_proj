{
 "cells": [
  {
   "cell_type": "code",
   "execution_count": 6,
   "metadata": {},
   "outputs": [
    {
     "data": {
      "text/plain": [
       "24"
      ]
     },
     "execution_count": 6,
     "metadata": {},
     "output_type": "execute_result"
    }
   ],
   "source": [
    "import requests\n",
    "from bs4 import BeautifulSoup\n",
    "url = 'https://www.yes24.com/Product/Category/BestSeller?categoryNumber=001'\n",
    "response = requests.get(url)\n",
    "soup = BeautifulSoup(response.text, 'html.parser')\n",
    "\n",
    "#yesBestList > li:nth-child(1) > div > div.item_info > div.info_row.info_name\n",
    "book_list_element = soup.select(\"#yesBestList div.item_info\") # #은 id selector, .은 class selector\n",
    "len(book_list_element)"
   ]
  },
  {
   "cell_type": "code",
   "execution_count": 2,
   "metadata": {},
   "outputs": [
    {
     "data": {
      "text/plain": [
       "[[1, '소년이 온다', '한강', '13,500'],\n",
       " [2, '채식주의자', '한강', '13,500'],\n",
       " [3, '우리는 사랑 안에 살고 있다', '유혜주', '17,820'],\n",
       " [4, '작별하지 않는다', '한강', '15,120'],\n",
       " [5, '트럼프 2.0 시대', '박종훈', '18,000'],\n",
       " [6, '서랍에 저녁을 넣어 두었다', '한강', '10,800'],\n",
       " [7, '하루 한 장 나의 어휘력을 위한 필사 노트', '유선경', '21,420'],\n",
       " [8, '트렌드 코리아 2025', '김난도', '18,000'],\n",
       " [9, '흰', '한강', '13,050'],\n",
       " [10, '넥서스', '유발 하라리', '25,020'],\n",
       " [11, '희랍어 시간', '한강', '11,700'],\n",
       " [12, '지박소년 하나코 군 22 트리플 특장판', '아이다이로', '5,400'],\n",
       " [13, '김미경의 딥마인드', '김미경', '16,200'],\n",
       " [14, '인생의 의미', '토마스 힐란드 에릭센', '16,920'],\n",
       " [15, '일의 감각', '조수용', '19,800'],\n",
       " [16, '흔한남매 과학 탐험대 12 공룡과 화석', '흔한남매', '13,320'],\n",
       " [17, '어른의 행복은 조용하다', '태수', '16,020'],\n",
       " [18, '부모의 어휘력', '김종원', '17,100'],\n",
       " [19, '성적을 부탁해 티처스', '정승제', '19,800'],\n",
       " [20, '퓨처 셀프 30만 부 기념 스페셜 에디션', '벤저민 하디', '19,800'],\n",
       " [21, '모순', '양귀자', '11,700'],\n",
       " [22, '세이노의 가르침', '세이노(SayNo)', '6,480'],\n",
       " [23, '나의 인생만사 답사기', '유홍준', '19,800'],\n",
       " [24, 'ETS 토익 정기시험 기출문제집 1000 Vol. 4 RC', 'ETS', '17,820']]"
      ]
     },
     "execution_count": 2,
     "metadata": {},
     "output_type": "execute_result"
    }
   ],
   "source": [
    "book_list = []\n",
    "\n",
    "for i, item in enumerate(book_list_element):\n",
    "    book_title = item.select_one('div.info_name > a').text\n",
    "    book_author = item.select_one('span.info_auth > a').text\n",
    "    #print(i+1, book_author)\n",
    "    ##yesBestList > li:nth-child(1) > div > div.item_info > div.info_row.info_price > strong > em\n",
    "    book_price = item.select_one('.info_price .yes_b').text\n",
    "    #print(i+1, book_title, book_author, book_price)\n",
    "    book_list.append([i+1, book_title, book_author, book_price])\n",
    "\n",
    "book_list"
   ]
  },
  {
   "cell_type": "code",
   "execution_count": 4,
   "metadata": {},
   "outputs": [],
   "source": [
    "import pandas as pd\n",
    "\n",
    "df_books = pd.DataFrame(book_list, columns= ['Rank', 'Title', 'Author', 'Price'])\n",
    "df_books.to_csv('book_list.csv', index=False, encoding='utf-8-sig')"
   ]
  },
  {
   "cell_type": "code",
   "execution_count": null,
   "metadata": {},
   "outputs": [],
   "source": []
  }
 ],
 "metadata": {
  "kernelspec": {
   "display_name": "Python 3.9.13 ('webcrawling': venv)",
   "language": "python",
   "name": "python3"
  },
  "language_info": {
   "codemirror_mode": {
    "name": "ipython",
    "version": 3
   },
   "file_extension": ".py",
   "mimetype": "text/x-python",
   "name": "python",
   "nbconvert_exporter": "python",
   "pygments_lexer": "ipython3",
   "version": "3.9.13"
  },
  "orig_nbformat": 4,
  "vscode": {
   "interpreter": {
    "hash": "50c521824f0de2af12b005a32f8051191dc81fd1d24212694aab0144f2aed8f4"
   }
  }
 },
 "nbformat": 4,
 "nbformat_minor": 2
}
